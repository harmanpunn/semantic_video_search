{
 "cells": [
  {
   "cell_type": "code",
   "execution_count": 1,
   "id": "1d41b198",
   "metadata": {},
   "outputs": [],
   "source": [
    "from twelvelabs import TwelveLabs\n",
    "from twelvelabs.indexes import IndexesCreateRequestModelsItem\n",
    "from twelvelabs.tasks import TasksRetrieveResponse\n",
    "\n",
    "\n",
    "import os"
   ]
  },
  {
   "cell_type": "code",
   "execution_count": null,
   "id": "c6d24e5c",
   "metadata": {},
   "outputs": [],
   "source": [
    "api_key = os.getenv('TWELVE_LABS_API_KEY')\n",
    "print(\"API Key:\", api_key)  \n",
    "client = TwelveLabs(api_key=api_key)\n",
    "\n",
    "\n",
    "index = client.indexes.create(\n",
    "    index_name=\"test_index_10\",\n",
    "    models=[\n",
    "        IndexesCreateRequestModelsItem(\n",
    "            model_name=\"marengo2.7\",\n",
    "            model_options=[\"visual\", \"audio\"]\n",
    "        )\n",
    "    ]\n",
    ")\n",
    "index_id  = index.id\n",
    "print(\"Index ID:\", index_id) "
   ]
  },
  {
   "cell_type": "code",
   "execution_count": 10,
   "id": "db30dd40",
   "metadata": {},
   "outputs": [
    {
     "name": "stdout",
     "output_type": "stream",
     "text": [
      "Uploading video file of size 47342084 bytes...\n",
      "Upload complete. The unique identifier of your video is 68c8813d707c44d8e8db9b59.\n"
     ]
    }
   ],
   "source": [
    "index_id = '68c87ce8cf272009603ff351'\n",
    "video_path = \"/Users/harman/Home/Projects/semantic_video_search/data/videos/video7.mp4\"\n",
    "\n",
    "with open(video_path, \"rb\") as video_file:\n",
    "    file_size = os.path.getsize(video_path)\n",
    "    print(f\"Uploading video file of size {file_size} bytes...\")\n",
    "\n",
    "    task = client.tasks.create(\n",
    "        index_id=index_id,\n",
    "        video_file=video_file\n",
    "    )\n",
    "    # client.tasks.wait_for_done(sleep_interval=5, callback=lambda t: print(f\"  Status={t.status}\"))\n",
    "    # if task.status != \"ready\":\n",
    "    #     raise RuntimeError(f\"Indexing failed with status {task.status}\")\n",
    "    print(f\"Upload complete. The unique identifier of your video is {task.video_id}.\")"
   ]
  },
  {
   "cell_type": "code",
   "execution_count": 11,
   "id": "2f9e61ce",
   "metadata": {},
   "outputs": [
    {
     "data": {
      "text/plain": [
       "'68c8813d707c44d8e8db9b59'"
      ]
     },
     "execution_count": 11,
     "metadata": {},
     "output_type": "execute_result"
    }
   ],
   "source": [
    "task.id"
   ]
  },
  {
   "cell_type": "code",
   "execution_count": 15,
   "id": "c45b1125",
   "metadata": {},
   "outputs": [
    {
     "name": "stdout",
     "output_type": "stream",
     "text": [
      "Task ID: 68c8813d707c44d8e8db9b59\n",
      "Index ID: 68c87ce8cf272009603ff351\n",
      "Video ID: 68c8813d707c44d8e8db9b59\n",
      "Status: pending\n"
     ]
    }
   ],
   "source": [
    "retrieved_task = client.tasks.retrieve(task_id=\"68c8813d707c44d8e8db9b59\" )\n",
    "print(f\"Task ID: {retrieved_task.id}\")\n",
    "print(f\"Index ID: {retrieved_task.index_id}\")\n",
    "print(f\"Video ID: {retrieved_task.video_id}\")\n",
    "print(f\"Status: {retrieved_task.status}\")\n"
   ]
  },
  {
   "cell_type": "code",
   "execution_count": null,
   "id": "13cbed35",
   "metadata": {},
   "outputs": [
    {
     "data": {
      "text/plain": [
       "<twelvelabs.client.TwelveLabs at 0x113f74150>"
      ]
     },
     "execution_count": 4,
     "metadata": {},
     "output_type": "execute_result"
    }
   ],
   "source": [
    "import requests\n",
    "\n",
    "url = \"https://api.twelvelabs.io/v1.3/tasks\"\n",
    "\n",
    "files = { \"video_file\": \"open('@/Users/john/Documents/01.mp4', 'rb')\" }\n",
    "payload = {\n",
    "    \"index_id\": \"6298d673f1090f1100476d4c\",\n",
    "    \"video_url\": ,\n",
    "    \"enable_video_stream\": ,\n",
    "    \"user_metadata\": \n",
    "}\n",
    "headers = {\"x-api-key\": \"test_123\"}\n",
    "\n",
    "response = requests.post(url, data=payload, files=files, headers=headers)\n",
    "\n",
    "print(response.json())"
   ]
  }
 ],
 "metadata": {
  "kernelspec": {
   "display_name": "semantic_video_search (3.11.13)",
   "language": "python",
   "name": "python3"
  },
  "language_info": {
   "codemirror_mode": {
    "name": "ipython",
    "version": 3
   },
   "file_extension": ".py",
   "mimetype": "text/x-python",
   "name": "python",
   "nbconvert_exporter": "python",
   "pygments_lexer": "ipython3",
   "version": "3.11.13"
  }
 },
 "nbformat": 4,
 "nbformat_minor": 5
}
